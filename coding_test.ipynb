{
 "cells": [
  {
   "cell_type": "markdown",
   "metadata": {},
   "source": [
    "# 이것이 코딩테스트다 리뷰"
   ]
  },
  {
   "cell_type": "markdown",
   "metadata": {},
   "source": [
    "## 그리디\n",
    "\n",
    "## p.93 큰수의법칙"
   ]
  },
  {
   "cell_type": "code",
   "execution_count": null,
   "metadata": {},
   "outputs": [],
   "source": [
    "n,m,k = map(int,input().split())\n",
    "data= list(map(int, input().split()))\n",
    "\n",
    "data.sort()\n",
    "first = data[n-1]\n",
    "second = data[n-2]\n",
    "\n",
    "result = 0 \n",
    "\n",
    "while True:\n",
    "    for i in range(k):\n",
    "        if m ==0:\n",
    "            break\n",
    "        result += first\n",
    "        m -= 1 \n",
    "    if m==0:\n",
    "        break\n",
    "    result += second\n",
    "    m-=1 \n",
    "    \n",
    "print(result)"
   ]
  },
  {
   "cell_type": "markdown",
   "metadata": {},
   "source": [
    "## 숫자 카드 게임"
   ]
  },
  {
   "cell_type": "code",
   "execution_count": null,
   "metadata": {},
   "outputs": [],
   "source": [
    "n,m = map(int, input().split())\n",
    "\n",
    "result = 0 \n",
    "\n",
    "for i in range(n):\n",
    "    data= list(map(int, input().split()))\n",
    "    min_value = min(data)\n",
    "    result = max(result, min_value)\n",
    "               \n",
    "print(result)\n",
    "          "
   ]
  },
  {
   "cell_type": "code",
   "execution_count": null,
   "metadata": {},
   "outputs": [],
   "source": [
    "max(1,2)   "
   ]
  },
  {
   "cell_type": "markdown",
   "metadata": {},
   "source": [
    "## 1이 될 때까지"
   ]
  },
  {
   "cell_type": "code",
   "execution_count": null,
   "metadata": {},
   "outputs": [],
   "source": [
    "n,k = map(int, input().split())\n",
    "count=0\n",
    "while True:\n",
    "    \n",
    "    if n==1:\n",
    "        break\n",
    "        \n",
    "    elif k > n:\n",
    "        n-=1\n",
    "        count+=1\n",
    "        if n==1:\n",
    "            break \n",
    "    \n",
    "    #나눠 떨어질때     \n",
    "    else:\n",
    "        if n % k == 0 :\n",
    "            n = n // k\n",
    "            count+=1\n",
    "        else:\n",
    "            n-=1 \n",
    "            count+=1            \n",
    "            \n",
    "            \n",
    "print(count)"
   ]
  },
  {
   "cell_type": "code",
   "execution_count": null,
   "metadata": {},
   "outputs": [],
   "source": [
    "n,k = map(int, input().split())\n",
    "result=0\n",
    "\n",
    "while True:\n",
    "    target = (n // k) * k\n",
    "    \n",
    "    result += (n - target)\n",
    "    n= target\n",
    "    \n",
    "    if n<k:\n",
    "        break\n",
    "    result +=1 \n",
    "    n//=k\n",
    "    \n",
    "result += (n-1)\n",
    "print(result)"
   ]
  },
  {
   "cell_type": "markdown",
   "metadata": {},
   "source": [
    "# 구현\n",
    "## 상하좌우 "
   ]
  },
  {
   "cell_type": "code",
   "execution_count": null,
   "metadata": {},
   "outputs": [],
   "source": [
    "n = int(input())\n",
    "plan = list(map(str, input().split()))\n",
    "\n",
    "\n",
    "h,v = 1,1 \n",
    "\n",
    "# R = h+1 \n",
    "# L = h-1\n",
    "# U = v+1\n",
    "# D = v-1\n",
    "\n",
    "\n",
    "for m in plan:\n",
    "    if m == 'R':\n",
    "        if v < n:\n",
    "            v += 1\n",
    "        else: pass \n",
    "        \n",
    "    elif m == 'L':\n",
    "        if v > 1:\n",
    "            v -= 1\n",
    "        else: pass \n",
    "\n",
    "    elif m == 'U':\n",
    "        if h > 1:\n",
    "            h -= 1\n",
    "        else :pass\n",
    "        \n",
    "    \n",
    "    elif m == 'D':\n",
    "        if h < n:\n",
    "            h += 1\n",
    "        else :pass\n",
    "\n",
    "print(h,v)"
   ]
  },
  {
   "cell_type": "code",
   "execution_count": null,
   "metadata": {},
   "outputs": [],
   "source": [
    "h, v= 1,2\n",
    "print(h,v)\n",
    "print(v)"
   ]
  },
  {
   "cell_type": "markdown",
   "metadata": {},
   "source": [
    "# 왕실의 나이트\n",
    "## p.115"
   ]
  },
  {
   "cell_type": "code",
   "execution_count": null,
   "metadata": {},
   "outputs": [],
   "source": [
    "# 내가 쓴 코드 \n",
    "s =input()\n",
    "width  = [\"a\",\"b\",\"c\",\"d\",\"e\",\"f\",\"g\",\"h\"]\n",
    "height = [1,2,3,4,5,6,7,8]  \n",
    "\n",
    "\n",
    "def cal(s):\n",
    "    \n",
    "    width  = [\"a\",\"b\",\"c\",\"d\",\"e\",\"f\",\"g\",\"h\"]\n",
    "    height = [1,2,3,4,5,6,7,8]  \n",
    "  \n",
    "    w = s[0]\n",
    "    h = int(s[1])\n",
    "    idx=0\n",
    "    print(\"w:\",w)\n",
    "    print(\"h:\",h)\n",
    "    \n",
    "    for i in width: \n",
    "        if i == w:\n",
    "            break\n",
    "            \n",
    "        else: idx+=1 \n",
    "        \n",
    "    wi = idx \n",
    "    #wi는 현재 위치 인덱스\n",
    "    print(\"wi:\", wi)\n",
    "    \n",
    "    #case1 \n",
    "    if wi<2 or wi>5:\n",
    "        w_cnt =1 \n",
    "    else :w_cnt = 2 \n",
    "    \n",
    "    print(\"w_cnt:\",w_cnt)\n",
    "    \n",
    "    hi= h-1\n",
    "    \n",
    "    if hi<1 or  hi>6:\n",
    "        h_cnt =1 \n",
    "    else: h_cnt =2\n",
    "    \n",
    "    print(\"h_cnt:\",h_cnt)\n",
    "    case1_cnt= h_cnt * w_cnt \n",
    "    print(\"cas1_cnt:\", case1_cnt)\n",
    "    \n",
    "    #case 2  \n",
    "    if wi<1 or wi>6:\n",
    "        w_cnt =1 \n",
    "    else: w_cnt = 2 \n",
    "    \n",
    "    hi= h-1\n",
    "    \n",
    "    if hi<2 or  hi>5:\n",
    "        h_cnt =1  \n",
    "    else: h_cnt =2\n",
    "    \n",
    "    case2_cnt= h_cnt * w_cnt \n",
    "    \n",
    "    \n",
    "    return case1_cnt+case2_cnt\n",
    "\n",
    "cal(s)\n",
    "    "
   ]
  },
  {
   "cell_type": "code",
   "execution_count": null,
   "metadata": {},
   "outputs": [],
   "source": [
    "cal(\"g8\")"
   ]
  },
  {
   "cell_type": "markdown",
   "metadata": {},
   "source": [
    "# DFS 예제 \n",
    "## P.142 "
   ]
  },
  {
   "cell_type": "code",
   "execution_count": null,
   "metadata": {},
   "outputs": [],
   "source": [
    "def dfs(graph, v, visited):\n",
    "    \n",
    "    #현재 노드를 방문처리\n",
    "    visited[v] = True\n",
    "    print(v, end=' ')\n",
    "    \n",
    "    #현재 노드와 연결된 다른 노드를 재귀적으로 방문\n",
    "    for i in graph[v]:\n",
    "        if not visited[i]:\n",
    "            dfs(graph, i , visited)\n",
    "            \n",
    "graph = [ [], \n",
    "         [2,3,8],\n",
    "         [1,7],\n",
    "         [1,4,5],\n",
    "         [3,5],\n",
    "         [3,4],\n",
    "         [7],\n",
    "         [2, 6, 8],\n",
    "         [1,7]\n",
    "        ]\n",
    "\n",
    "#각 노드가 방문된 정보를 리스트 자료형으로 표현(1차원 리스트) \n",
    "visited = [False]*9\n",
    "dfs(graph,1,visited)"
   ]
  },
  {
   "cell_type": "code",
   "execution_count": null,
   "metadata": {},
   "outputs": [],
   "source": [
    "visited = [False]*9\n",
    "\n",
    "visited"
   ]
  },
  {
   "cell_type": "markdown",
   "metadata": {},
   "source": [
    "# BFS "
   ]
  },
  {
   "cell_type": "code",
   "execution_count": null,
   "metadata": {},
   "outputs": [],
   "source": [
    "from collections import deque \n",
    "\n",
    "#BFS 메서드 정의\n",
    "\n",
    "def bfs(graph, start, visited):\n",
    "    #큐 구현을 위해 deque 라이브러리 활용\n",
    "    queue= deque([start])\n",
    "    #현재 노드를 방문 처리\n",
    "    visited[start]= True\n",
    "    #큐가 빌 때까지 반복\n",
    "    while queue:\n",
    "        # 큐에서 하나의 원소를 뽑아 출력\n",
    "        v=queue.popleft()\n",
    "        print(v, end=' ')\n",
    "        # 해당 원소와 연결된, 아직 방문하지 않은 원소들을 큐에 삽입 \n",
    "        for i in graph[v]:\n",
    "            if not visited[i]:\n",
    "                queue.append(i)\n",
    "                visited[i] = True\n",
    "                \n",
    "                \n",
    "# 각 노드가 연결된 정보를 리스트 자료형으로 표현(2차원 리스트)\n",
    "\n",
    "graph = [ [], [2,3,8], [1,7] , [1,4,5], [3,5], [3,4], [7], [2,6,8],[1,7]]\n",
    "\n",
    "# 각 노드가 방문된 정보를 리스트 자료형으로 표현(1차원 리스트)\n",
    "\n",
    "visited = [False]*9\n",
    "\n",
    "# 정의된 BFS함수 호출\n",
    "\n",
    "bfs(graph, 1, visited)"
   ]
  },
  {
   "cell_type": "code",
   "execution_count": null,
   "metadata": {},
   "outputs": [],
   "source": [
    "queue1=deque([1])\n",
    "print(queue1)\n",
    "queue1.append(2)\n",
    "print(queue1)\n",
    "queue1.popleft()\n",
    "queue1"
   ]
  },
  {
   "cell_type": "markdown",
   "metadata": {},
   "source": [
    "## 얼음 틀 문제"
   ]
  },
  {
   "cell_type": "code",
   "execution_count": null,
   "metadata": {},
   "outputs": [],
   "source": [
    "n,m = map(int, input().split())\n",
    "#data = list(map(int, input().split()))\n",
    "\n",
    "\n",
    "graph = []\n",
    "for i in range(n):\n",
    "    graph.append(list(map(int,input())))\n",
    "\n",
    "# dfs로 특정한 노드를 방문한 뒤에 연결된 모든 노드들 방문\n",
    "\n",
    "def dfs(x,y):\n",
    "    # 범위 넘어갈시 종료\n",
    "    if x<=-1 or x>=n or y<= -1 or y>=m: \n",
    "        return False\n",
    "    \n",
    "    #현재 노드를 아직 방문하지 않았을 경우\n",
    "    if graph[x][y] == 0:\n",
    "        \n",
    "        #해당노드 방문처리 \n",
    "        graph[x][y] = 1\n",
    "        \n",
    "        #상하좌우 재귀적 호출\n",
    "         dfs(x, y-1)\n",
    "        dfs(x+1, y)\n",
    "        dfs(x,y+1)\n",
    "        return True\n",
    "    return False\n",
    "\n",
    "# 모든 노드(위치)에 대하여 음료수 채우기\n",
    "result =0 \n",
    "for i in range(n):\n",
    "    for j in range(m):\n",
    "        # 현재 위치에서 DFS 수행\n",
    "        if dfs(i,j)== True:\n",
    "            result +=1\n",
    "print(result)\n"
   ]
  },
  {
   "cell_type": "code",
   "execution_count": null,
   "metadata": {},
   "outputs": [],
   "source": [
    "# def solution(v):\n",
    "    \n",
    "#     point=[]\n",
    "#     for i in range(3):\n",
    "#         if v[i][0] != v[i+1][0]:\n",
    "#             point.append(v[i])\n",
    "            \n",
    "    \n",
    "#     answer = []\n",
    "\n",
    "#     print('Hello Python')\n",
    "\n",
    "#     return answer\n",
    "\n",
    "a= [[1,2],[3,4]]\n",
    "print([1][3])\n",
    "\n"
   ]
  },
  {
   "cell_type": "markdown",
   "metadata": {},
   "source": [
    "# 정렬"
   ]
  },
  {
   "cell_type": "markdown",
   "metadata": {},
   "source": [
    "## 선택정렬"
   ]
  },
  {
   "cell_type": "code",
   "execution_count": null,
   "metadata": {},
   "outputs": [],
   "source": [
    "array= [7,5,9,0,3,1,6,2,4,8]\n",
    "\n",
    "for i in range(len(array)):\n",
    "    min_index = i # 가장 작은 원소의 인덱스\n",
    "    for j in range(i+1, len(array)):\n",
    "        if array[min_index] > array[j]:\n",
    "            min_index=j\n",
    "    array[i],array[min_index] = array[min_index], array[i] #스와프\n",
    "    \n",
    "print(array)"
   ]
  },
  {
   "cell_type": "markdown",
   "metadata": {},
   "source": [
    "## 삽입정렬"
   ]
  },
  {
   "cell_type": "code",
   "execution_count": null,
   "metadata": {},
   "outputs": [],
   "source": [
    "array= [7,5,9,0,3,1,6,2,4,8]\n",
    "\n",
    "for i in range(1,len(array)):\n",
    "    for j in range(i,0,-1): #인덱스 i 부터 1까지 감소하며 반복 문법\n",
    "        if array[j] < array[j-1]: #한 칸씩 왼쪽으로 이동\n",
    "            array[j],array[j-1] = array[j-1], array[j]\n",
    "        else: # 자기보다 작은 데이터를 만나면 그 위치에서 멈춤\n",
    "            break\n",
    "            \n",
    "print(array)"
   ]
  },
  {
   "cell_type": "markdown",
   "metadata": {},
   "source": [
    "## 퀵정렬"
   ]
  },
  {
   "cell_type": "code",
   "execution_count": null,
   "metadata": {},
   "outputs": [],
   "source": [
    "array= [5,7,9,0,3,1,6,2,4,8]\n",
    "\n",
    "def quick_sort(array, start, end):\n",
    "    if start >= end: \n",
    "        return\n",
    "    pivot = start #\n",
    "    left = start + 1\n",
    "    right = end\n",
    "    while left <= right:\n",
    "        # 피벗보다 큰 데이터를 찾을 때까지 반복\n",
    "        while left <= end and array[left] <= array[pivot]:\n",
    "            left+=1\n",
    "        #피벗보다 작은 데이터를 찾을 때까지 반복\n",
    "        while right> start and array[right] >= array[pivot]:\n",
    "            right-=1\n",
    "        if left>right:#엇갈렸다면 작은 데이터와 피벗을 교체\n",
    "            array[right], array[pivot] = array[pivot], array[right]\n",
    "        else: #엇갈리지 않았다면 작은데이터와 큰 데이터를 교체\n",
    "            array[left],array[right] = array[right], array[left]\n",
    "        #분할 이후 왼쪽 부분과 오른쪽 부분에서 각각 정렬 수행\n",
    "    quick_sort(array, start, right-1)\n",
    "    quick_sort(array, right+1, end)\n",
    "    \n",
    "quick_sort(array,0,len(array)-1)\n",
    "print(array)\n",
    "\n"
   ]
  },
  {
   "cell_type": "code",
   "execution_count": null,
   "metadata": {},
   "outputs": [],
   "source": [
    "# 파이썬의 장점을 살린 퀵 정렬 \n",
    "\n",
    "array= [5,7,9,0,3,1,6,2,4,8]\n",
    "\n",
    "def quick_sort(array):\n",
    "    #리스트가 하나 이하의 원소만 담고 있다면 종료\n",
    "    if len(array) <=1 :\n",
    "        return array\n",
    "    \n",
    "    pivot = array[0] # 피벗은 첫 번째 원소\n",
    "    tail = array[1:] # 피벗을 제외한 리스트\n",
    "    \n",
    "    left_side = [x for x in tail if x<= pivot] # 분할된 왼쪽 부분\n",
    "    right_side = [x for x in tail if x> pivot] # 분할된 오른쪽 부분\n",
    "\n",
    "    \n",
    "    #분할 이후 왼쪽과 오른쪽 각각 정렬을 수행하고 리스트를 반환\n",
    "    \n",
    "    return quick_sort(left_side) + [pivot] + quick_sort(right_side)\n",
    "\n",
    "print(quick_sort(array))\n",
    "    \n",
    "    "
   ]
  },
  {
   "cell_type": "code",
   "execution_count": null,
   "metadata": {},
   "outputs": [],
   "source": [
    "# 계수 정렬\n",
    "\n",
    "# 모든 원소의 값이 0보다 큰 양의 정수일 때만 사용가능\n",
    "\n",
    "array= [7,5,9,0,3,1,6,2,9,1,4,8,0,5,2,14]\n",
    "# 모든 범위를 포함하는 리스트 선언(모든 값은 0으로 초기화)\n",
    "count= [0]*(max(array)+1)\n",
    "\n",
    "for i in range(len(array)):\n",
    "    count[array[i]] +=1 # 각 데이터에 해당하는 인덱스의 값 증가\n",
    "    \n",
    "for i in range(len(count)):\n",
    "    for _ in range(count[i]):\n",
    "        print(i, end=' ')\n",
    "    \n"
   ]
  },
  {
   "cell_type": "markdown",
   "metadata": {},
   "source": [
    "## 이진탐색"
   ]
  },
  {
   "cell_type": "code",
   "execution_count": null,
   "metadata": {},
   "outputs": [],
   "source": [
    "## 재귀함수로 구현 \n",
    "\n",
    "def binary_search(array,target, start, end):\n",
    "    if start> end:\n",
    "        return None\n",
    "    mid= (start+end)//2\n",
    "    #찾은 경우 중간점 인덱스 반환\n",
    "    \n",
    "    if array[mid] == target:\n",
    "        return mid\n",
    "    #중간점의 값보다 찾고자 하는 값이 작은 경우 왼쪽 확인\n",
    "    elif array[mid] > target:\n",
    "        return binary_search(array,target,start,mid-1)\n",
    "    #중간점의 값보다 찾고자 하는 값이 큰 경우 오른쪽 화인\n",
    "    else:\n",
    "        return binary_search(array,target, mid+1,end)\n",
    "                            \n",
    "#n(원소의 개수)target(찾고자하는 문자열) 입력받기                        \n",
    "n,target = list(map(int,input().split()))\n",
    "# 전체 원소 array 입력받기\n",
    "array = list(map(int,input().split()))\n",
    "                                 \n",
    "# 이진탐색 수행 결과 출력\n",
    "result = binary_search(array,target,0,n-1)\n",
    "if result == None:\n",
    "    print(\"존재 x\")\n",
    "else: print(result+1)"
   ]
  },
  {
   "cell_type": "code",
   "execution_count": null,
   "metadata": {},
   "outputs": [],
   "source": [
    "# 반복문 이용 \n",
    "\n",
    "def binary_search(array,target,start, end):\n",
    "    while start <= end:\n",
    "        mid= (start+end)//2\n",
    "        #찾은 경우 인덱스 반환\n",
    "        if array[mid] == target:\n",
    "            return mid\n",
    "        #중간점의 값보다 찾고자 하는 값이 작은 경우 왼쪽 확인\n",
    "        elif array[mid]>target:\n",
    "            end= mid-1\n",
    "        #중간점의 값보다 찾고자 하는 값이 큰 경우 오른쪽 확인\n",
    "        else: \n",
    "            start=mid+1\n",
    "    return None\n",
    "\n",
    "#n(원소의 개수)target(찾고자하는 문자열) 입력받기                        \n",
    "n,target = list(map(int,input().split()))\n",
    "# 전체 원소 array 입력받기\n",
    "array = list(map(int,input().split()))\n",
    "                                 \n",
    "# 이진탐색 수행 결과 출력\n",
    "result = binary_search(array,target,0,n-1)\n",
    "if result == None:\n",
    "    print(\"존재 x\")\n",
    "else: print(result+1)"
   ]
  },
  {
   "cell_type": "markdown",
   "metadata": {},
   "source": [
    "# 다익스트라"
   ]
  },
  {
   "cell_type": "code",
   "execution_count": null,
   "metadata": {},
   "outputs": [],
   "source": [
    "import sys\n",
    "input= sys.stdin.readline\n",
    "INF= int(1e9)\n",
    "\n",
    "n, m = map(int,input().split())\n",
    "\n",
    "start=int(input())\n",
    "graph= [[] for i in rnage(n+1)]\n",
    "visited = [False] * (n+1)\n",
    "distance = [INF] * (n+1)\n",
    "\n",
    "for _ in range(m):\n",
    "    a,b,c = map(int, input().split())\n",
    "    #a번 노드에서 b번 노드로 가는 비용이 c라는 의미 \n",
    "    graph[a].append((b,c))\n",
    "    \n",
    "\n",
    "def get_smallest_node():\n",
    "    min_value = INF\n",
    "    index=0\n",
    "    for i in range(1,n+1):\n",
    "        if distance[i] < min_value and not visited[i]:\n",
    "            min_value = distance[i]\n",
    "            index=i\n",
    "    return index\n",
    "\n",
    "\n",
    "def djijkstra(start):\n",
    "    distance[start]=0\n",
    "    visited[start]=True\n",
    "    for j in graph[start]:\n",
    "        distance[j[0]]=j[1]\n",
    "        \n",
    "    for i in range(n-1):\n",
    "        now= get_smallest_node()\n",
    "        visited[now]= True\n",
    "        \n",
    "        for j in graph[now]:\n",
    "            cost=distance[now] + j[1]\n",
    "            \n",
    "            if cost < distance[[j[0]]:\n",
    "                               distance[j[0]] = cost\n",
    "\n",
    "dijkstra(start)"
   ]
  },
  {
   "cell_type": "code",
   "execution_count": null,
   "metadata": {
    "scrolled": true
   },
   "outputs": [],
   "source": [
    "import sys\n",
    "input = sys.stdin.readline\n",
    "INF = int(1e9) # 무한을 의미하는 값으로 10억을 설정\n",
    "\n",
    "# 노드의 개수, 간선의 개수를 입력받기\n",
    "n, m = map(int, input().split())\n",
    "# 시작 노드 번호를 입력받기\n",
    "start = int(input())\n",
    "# 각 노드에 연결되어 있는 노드에 대한 정보를 담는 리스트를 만들기\n",
    "graph = [[] for i in range(n + 1)]\n",
    "# 방문한 적이 있는지 체크하는 목적의 리스트를 만들기\n",
    "visited = [False] * (n + 1)\n",
    "# 최단 거리 테이블을 모두 무한으로 초기화\n",
    "distance = [INF] * (n + 1)\n",
    "\n",
    "# 모든 간선 정보를 입력받기\n",
    "for _ in range(m):\n",
    "    a, b, c = map(int, input().split())\n",
    "    # a번 노드에서 b번 노드로 가는 비용이 c라는 의미\n",
    "    graph[a].append((b, c))\n",
    "\n",
    "# 방문하지 않은 노드 중에서, 가장 최단 거리가 짧은 노드의 번호를 반환\n",
    "def get_smallest_node():\n",
    "    min_value = INF\n",
    "    index = 0 # 가장 최단 거리가 짧은 노드(인덱스)\n",
    "    for i in range(1, n + 1):\n",
    "        if distance[i] < min_value and not visited[i]:\n",
    "            min_value = distance[i]\n",
    "            index = i\n",
    "    return index\n",
    "\n",
    "def dijkstra(start):\n",
    "    # 시작 노드에 대해서 초기화\n",
    "    distance[start] = 0\n",
    "    visited[start] = True\n",
    "    for j in graph[start]:\n",
    "        distance[j[0]] = j[1]\n",
    "    # 시작 노드를 제외한 전체 n - 1개의 노드에 대해 반복\n",
    "    for i in range(n - 1):\n",
    "        # 현재 최단 거리가 가장 짧은 노드를 꺼내서, 방문 처리\n",
    "        now = get_smallest_node()\n",
    "        visited[now] = True\n",
    "        # 현재 노드와 연결된 다른 노드를 확인\n",
    "        for j in graph[now]:\n",
    "            cost = distance[now] + j[1]\n",
    "            # 현재 노드를 거쳐서 다른 노드로 이동하는 거리가 더 짧은 경우\n",
    "            if cost < distance[j[0]]:\n",
    "                distance[j[0]] = cost\n",
    "\n",
    "# 다익스트라 알고리즘을 수행\n",
    "dijkstra(start)\n",
    "\n",
    "# 모든 노드로 가기 위한 최단 거리를 출력\n",
    "for i in range(1, n + 1):\n",
    "    # 도달할 수 없는 경우, 무한(INFINITY)이라고 출력\n",
    "    if distance[i] == INF:\n",
    "        print(\"INFINITY\")\n",
    "    # 도달할 수 있는 경우 거리를 출력\n",
    "    else:\n",
    "        print(distance[i])"
   ]
  },
  {
   "cell_type": "code",
   "execution_count": null,
   "metadata": {},
   "outputs": [],
   "source": [
    "m = 5 \n",
    "graph= [[] for i in range(5)]\n",
    "    \n",
    "for _ in range(5):\n",
    "    a, b, c = map(int, input().split())\n",
    "    # a번 노드에서 b번 노드로 가는 비용이 c라는 의미\n",
    "    graph[a].append((b, c))"
   ]
  },
  {
   "cell_type": "code",
   "execution_count": null,
   "metadata": {},
   "outputs": [],
   "source": [
    "graph= [[] for i in range(4)]\n",
    "graph[3].append((1,4))\n"
   ]
  },
  {
   "cell_type": "code",
   "execution_count": null,
   "metadata": {},
   "outputs": [],
   "source": [
    "graph"
   ]
  },
  {
   "cell_type": "code",
   "execution_count": null,
   "metadata": {
    "scrolled": true
   },
   "outputs": [],
   "source": [
    "graph[1][0][1]"
   ]
  },
  {
   "cell_type": "markdown",
   "metadata": {},
   "source": [
    "# p220 개미전사"
   ]
  },
  {
   "cell_type": "code",
   "execution_count": null,
   "metadata": {},
   "outputs": [],
   "source": [
    "n = int(input())\n",
    "k = list(map(int,input().split()))\n",
    "\n",
    "print(k)\n",
    "\n",
    "\n",
    "bucket = [None] * 10\n",
    "\n",
    "bucket[0]= k[0]\n",
    "bucket[1]= max(k[0],k[1])\n",
    "\n",
    "for i in range(2, n):\n",
    "    print(f\"--{i}--\")\n",
    "    print(bucket[i-1], bucket[i-2], k[i])\n",
    "    bucket[i] = max(bucket[i-1], bucket[i-2]+ k[i])\n",
    "    print(bucket)\n",
    "print(bucket[n-1])\n",
    "    \n"
   ]
  },
  {
   "cell_type": "code",
   "execution_count": null,
   "metadata": {},
   "outputs": [],
   "source": []
  },
  {
   "cell_type": "code",
   "execution_count": null,
   "metadata": {},
   "outputs": [],
   "source": []
  },
  {
   "cell_type": "code",
   "execution_count": null,
   "metadata": {},
   "outputs": [],
   "source": []
  },
  {
   "cell_type": "code",
   "execution_count": null,
   "metadata": {},
   "outputs": [],
   "source": []
  },
  {
   "cell_type": "code",
   "execution_count": null,
   "metadata": {},
   "outputs": [],
   "source": []
  },
  {
   "cell_type": "code",
   "execution_count": null,
   "metadata": {},
   "outputs": [],
   "source": []
  },
  {
   "cell_type": "code",
   "execution_count": null,
   "metadata": {},
   "outputs": [],
   "source": []
  }
 ],
 "metadata": {
  "kernelspec": {
   "display_name": "Python 3",
   "language": "python",
   "name": "python3"
  },
  "language_info": {
   "codemirror_mode": {
    "name": "ipython",
    "version": 3
   },
   "file_extension": ".py",
   "mimetype": "text/x-python",
   "name": "python",
   "nbconvert_exporter": "python",
   "pygments_lexer": "ipython3",
   "version": "3.8.3"
  }
 },
 "nbformat": 4,
 "nbformat_minor": 4
}
